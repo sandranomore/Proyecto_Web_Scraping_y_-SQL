{
 "cells": [
  {
   "cell_type": "markdown",
   "metadata": {},
   "source": [
    "# FASE #1 Extracción de API"
   ]
  },
  {
   "cell_type": "code",
   "execution_count": 1,
   "metadata": {},
   "outputs": [],
   "source": [
    "# importamos las librerías que necesitamos\n",
    "\n",
    "# Tratamiento de datos\n",
    "import pandas as pd\n",
    "\n",
    "# Uso de API's\n",
    "import requests\n",
    "\n",
    "# Importar librerías para procesamiento de texto\n",
    "import re\n",
    "\n",
    "# Configuración\n",
    "pd.set_option('display.max_columns', None) # para poder visualizar todas las columnas de los DataFrames=(tablas de excel)"
   ]
  },
  {
   "cell_type": "code",
   "execution_count": 2,
   "metadata": {},
   "outputs": [],
   "source": [
    "#función establecida para validara la API\n",
    "\n",
    "def llamar_api(url, headers, querystring):\n",
    "   \n",
    "    llamada = requests.get(url, headers=headers, params=querystring)  # Realiza una solicitud GET a la URL proporcionada y almacena la respuesta en 'llamada'.\n",
    "    print(f\"La llamada a la API nos ha dado una respuesta de tipo: {llamada.status_code}\")  # Imprime el código de estado de la respuesta.\n",
    "\n",
    "    if llamada.status_code != 200:  # Comprueba si la respuesta no fue exitosa (código de estado distinto de 200).\n",
    "        print(f\"El motivo por el que la llamada falló es {llamada.reason}\")  # Imprime la razón de la falla.\n",
    "    else:\n",
    "        return llamada.json()  # Si la llamada fue exitosa, devuelve los datos de respuesta en formato JSON.\n"
   ]
  },
  {
   "cell_type": "code",
   "execution_count": 3,
   "metadata": {},
   "outputs": [],
   "source": [
    "key_movies = ''\n",
    "url_movies = 'https://moviesdatabase.p.rapidapi.com/titles'\n",
    "\n",
    "# Tomamos tres parametros porque es lo principal\n",
    "def obtener_peliculas(generos, startYear, endYear):\n",
    "    listado_peliculas = []  # Lista para almacenar las películas como tuplas\n",
    "    \n",
    "    for genero in generos: # Recorremos la lista de géneros que queremos buscar.\n",
    "        print(f\"Obteniendo películas del género {genero}...\")\n",
    "        \n",
    "        for paginas in range(1, 15):  # Recorrer has las páginas que le indique\n",
    "            print(f\"    Página {paginas}...\")\n",
    "            \n",
    "            try:               \n",
    "                # Lo que nos interesa de acuerdo a la API \n",
    "                querystring = {\"genre\": genero, \"startYear\": str(startYear), \"endYear\": str(endYear), \"page\": paginas, \"limit\": 50, 'sort':'year.incr'}\n",
    "                headers = {\n",
    "                    \"X-RapidAPI-Key\": key_movies,\n",
    "                    \"X-RapidAPI-Host\": \"moviesdatabase.p.rapidapi.com\"\n",
    "                }\n",
    "                # Llamamos a la API que ya nos dío un 200 antes\n",
    "                response = llamar_api(url_movies, headers, querystring)\n",
    "                \n",
    "                # Verifica si response contiene datos y si la clave \"results\" está presente en el diccionario response.\n",
    "                if response and \"results\" in response:\n",
    "                    peliculas_pagina = response[\"results\"] # Guardamos la respuesta en la variable  \n",
    "                    \n",
    "                    for pelicula in peliculas_pagina: # Iteramos sobre cada película en la lista \n",
    "                        \n",
    "                        # Verificar si la película es del tipo \"movie\" o \"short\"\n",
    "                        # Utilizamos .get() para acceder de manera segura, evitando errores si la clave no está. \n",
    "                        if pelicula.get('titleType', {}).get('id') in [\"movie\", \"short\"]:\n",
    "                            # Extraer los datos relevantes de la película\n",
    "                            nombre = pelicula.get('titleText', {}).get('text')\n",
    "                            año = pelicula.get('releaseYear', {}).get('year')\n",
    "                            mes = pelicula.get('releaseDate', {}).get('month')\n",
    "                            id_pelicula = pelicula.get('id')\n",
    "                            tipo_pelicula = pelicula.get('titleType', {}).get('id')\n",
    "                            \n",
    "                            # Crear la tupla y agregarla a la lista\n",
    "                            tupla_pelicula = (tipo_pelicula, nombre, año, mes, id_pelicula, genero)\n",
    "                            listado_peliculas.append(tupla_pelicula)\n",
    "                            \n",
    "                            # Imprimir el tipo de película\n",
    "                            #print(f\"Tipo de película: {tipo_pelicula}, Nombre: {nombre}, Año: {año}, Mes: {mes}, ID: {id_pelicula}, Género: {genero}\")\n",
    "            except:\n",
    "                pass\n",
    "            \n",
    "    return listado_peliculas\n",
    "\n",
    "# Definir los géneros y el rango de años\n",
    "generos = [\"Drama\", \"Comedy\", \"Action\", \"Fantasy\", \"Horror\", \"Mystery\", \"Romance\", \"Thriller\"]\n",
    "startYear = 2015\n",
    "endYear = 2020\n",
    "\n",
    "# Para llamar a la función y guardar la info en una variable, ejemplo: listado_completo = obtener_peliculas(generos, startYear, endYear)\n"
   ]
  },
  {
   "cell_type": "code",
   "execution_count": null,
   "metadata": {},
   "outputs": [],
   "source": [
    "# Para sacar la información por cada año con sus detalles llamando a la función\n",
    "año_2015 = obtener_peliculas(generos, 2015, 2015)\n",
    "año_2016 = obtener_peliculas(generos, 2016, 2016)\n",
    "año_2017 = obtener_peliculas(generos, 2017, 2017)\n",
    "año_2018 = obtener_peliculas(generos, 2018, 2018)\n",
    "año_2019 = obtener_peliculas(generos, 2019, 2019)\n",
    "año_2020 = obtener_peliculas(generos, 2020, 2020)"
   ]
  },
  {
   "cell_type": "code",
   "execution_count": 10,
   "metadata": {},
   "outputs": [],
   "source": [
    "# Volverlo un cuadro de excel - DataFrame\n",
    "peliculas_2015 = pd.DataFrame(año_2015, columns=['Tipo', 'Nombre', 'Año', 'Mes', 'Id_pelicula','Genero'])\n",
    "peliculas_2016 = pd.DataFrame(año_2016, columns=['Tipo', 'Nombre', 'Año', 'Mes', 'Id_pelicula','Genero'])\n",
    "peliculas_2017 = pd.DataFrame(año_2017, columns=['Tipo', 'Nombre', 'Año', 'Mes', 'Id_pelicula','Genero'])\n",
    "peliculas_2018 = pd.DataFrame(año_2018, columns=['Tipo', 'Nombre', 'Año', 'Mes', 'Id_pelicula','Genero'])\n",
    "peliculas_2019 = pd.DataFrame(año_2019, columns=['Tipo', 'Nombre', 'Año', 'Mes', 'Id_pelicula','Genero'])\n",
    "peliculas_2020 = pd.DataFrame(año_2020, columns=['Tipo', 'Nombre', 'Año', 'Mes', 'Id_pelicula','Genero'])"
   ]
  },
  {
   "cell_type": "code",
   "execution_count": 33,
   "metadata": {},
   "outputs": [],
   "source": [
    "# Para descargar el CSV de cada año lo hacemos asi:\n",
    "peliculas_2015.to_csv('datos_2015.csv', index=False)\n",
    "peliculas_2016.to_csv('datos_2016.csv', index=False)\n",
    "peliculas_2017.to_csv('datos_2017.csv', index=False)\n",
    "peliculas_2018.to_csv('datos_2018.csv', index=False)\n",
    "peliculas_2019.to_csv('datos_2019.csv', index=False)\n",
    "peliculas_2020.to_csv('datos_2020.csv', index=False)"
   ]
  },
  {
   "cell_type": "code",
   "execution_count": 47,
   "metadata": {},
   "outputs": [],
   "source": [
    "#Tener todos los años en una solo variable de tuplas\n",
    "tuplas_todos_los_años = [año_2020, año_2019, año_2018, año_2017, año_2016, año_2015]"
   ]
  }
 ],
 "metadata": {
  "kernelspec": {
   "display_name": "Python 3",
   "language": "python",
   "name": "python3"
  },
  "language_info": {
   "codemirror_mode": {
    "name": "ipython",
    "version": 3
   },
   "file_extension": ".py",
   "mimetype": "text/x-python",
   "name": "python",
   "nbconvert_exporter": "python",
   "pygments_lexer": "ipython3",
   "version": "3.11.5"
  }
 },
 "nbformat": 4,
 "nbformat_minor": 2
}
